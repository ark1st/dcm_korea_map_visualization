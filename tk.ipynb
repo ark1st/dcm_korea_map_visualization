{
 "cells": [
  {
   "cell_type": "code",
   "execution_count": 1,
   "metadata": {
    "pycharm": {
     "is_executing": false
    }
   },
   "outputs": [],
   "source": [
    "import geopandas as gpd\n",
    "import pandas as pd\n",
    "import numpy as np\n",
    "import matplotlib.pyplot as plt\n",
    "from shapely.geometry import Point\n",
    "import adjustText as aT"
   ]
  },
  {
   "cell_type": "code",
   "execution_count": 2,
   "metadata": {
    "pycharm": {
     "is_executing": false,
     "name": "#%%\n"
    }
   },
   "outputs": [],
   "source": [
    "plt.rcParams[\"font.family\"] = 'NanumGothic'\n",
    "df = gpd.read_file(\"SIG/TL_SCCO_SIG.shp\", encoding='euc-kr')"
   ]
  },
  {
   "cell_type": "code",
   "execution_count": 3,
   "metadata": {
    "pycharm": {
     "is_executing": false,
     "name": "#%%\n"
    }
   },
   "outputs": [],
   "source": [
    "df['si'] = df['SIG_KOR_NM'].str[0:3]"
   ]
  },
  {
   "cell_type": "code",
   "execution_count": 4,
   "metadata": {
    "pycharm": {
     "is_executing": false,
     "name": "#%%\n"
    }
   },
   "outputs": [],
   "source": [
    "서부 = [27230, 27290, 27170, 27710, 47850]\n",
    "동부 = [27110, 27200, 27140, 27260]\n",
    "경북 = ['문경시', '영주시', '봉화군', '울진군', '예천군', '안동시', '영양군', '상주시', '의성군', '청송군', '영덕군', '김천시', '구미시', '군위군', '포항시', '성주군', '고령군', '경주시', '청도군']\n",
    "경산하양 = [47290]"
   ]
  },
  {
   "cell_type": "code",
   "execution_count": 5,
   "metadata": {
    "pycharm": {
     "is_executing": false,
     "name": "#%%\n"
    }
   },
   "outputs": [],
   "source": [
    "#<경산 하양 분리>\n",
    "df2 = gpd.read_file(\"EMD_201905/TL_SCCO_EMD.shp\", encoding='euc-kr')\n",
    "df2 = df2[df2['EMD_CD'].str.slice(start=0, stop=5) == '47290']\n",
    "df2.head()\n",
    "df.rename(columns={'SIG_CD': 'CD', 'SIG_ENG_NM': 'ENG_NM', 'SIG_KOR_NM': 'KOR_NM'}, inplace=True)\n",
    "df2.rename(columns={'EMD_CD': 'CD', 'EMD_ENG_NM': 'ENG_NM', 'EMD_KOR_NM': 'KOR_NM'}, inplace=True)"
   ]
  },
  {
   "cell_type": "code",
   "execution_count": 6,
   "metadata": {
    "pycharm": {
     "is_executing": false,
     "name": "#%%\n"
    }
   },
   "outputs": [
    {
     "name": "stdout",
     "text": [
      "['삼남동', '삼북동', '서상동', '신교동', '상방동', '백천동', '옥곡동', '사정동', '옥산동', '중산동', '정평동', '대평동', '대정동', '임당동', '대동', '계양동', '중방동', '조영동', '남방동', '내동', '여천동', '유곡동', '신천동', '점촌동', '평산동', '사동', '삼풍동', '갑제동', '하양읍', '진량읍', '와촌면', '자인면', '용성면', '남산면', '압량면', '남천면']\n"
     ],
     "output_type": "stream"
    }
   ],
   "source": [
    "#하양\n",
    "하양 = ['압량면', '진량읍', '하양읍', '와촌면']\n",
    "경산 = []\n",
    "\n",
    "all = list(df2['KOR_NM'])\n",
    "print(all)\n",
    "경산 = list(set(all) - set(하양))"
   ]
  },
  {
   "cell_type": "code",
   "execution_count": 7,
   "metadata": {
    "pycharm": {
     "is_executing": false,
     "name": "#%%\n"
    }
   },
   "outputs": [
    {
     "name": "stderr",
     "text": [
      "C:\\Users\\mws10\\Anaconda3\\lib\\site-packages\\ipykernel_launcher.py:4: SettingWithCopyWarning: \n",
      "A value is trying to be set on a copy of a slice from a DataFrame.\n",
      "Try using .loc[row_indexer,col_indexer] = value instead\n",
      "\n",
      "See the caveats in the documentation: http://pandas.pydata.org/pandas-docs/stable/user_guide/indexing.html#returning-a-view-versus-a-copy\n",
      "  after removing the cwd from sys.path.\n"
     ],
     "output_type": "stream"
    }
   ],
   "source": [
    "tk = pd.DataFrame()\n",
    "for i in 동부:\n",
    "    temp=df[df['CD'].str.contains(str(i))]\n",
    "    temp['state'] = '동부'\n",
    "    tk = tk.append(temp)"
   ]
  },
  {
   "cell_type": "code",
   "execution_count": 8,
   "metadata": {
    "pycharm": {
     "is_executing": false,
     "name": "#%%\n"
    }
   },
   "outputs": [
    {
     "name": "stderr",
     "text": [
      "C:\\Users\\mws10\\Anaconda3\\lib\\site-packages\\ipykernel_launcher.py:3: SettingWithCopyWarning: \n",
      "A value is trying to be set on a copy of a slice from a DataFrame.\n",
      "Try using .loc[row_indexer,col_indexer] = value instead\n",
      "\n",
      "See the caveats in the documentation: http://pandas.pydata.org/pandas-docs/stable/user_guide/indexing.html#returning-a-view-versus-a-copy\n",
      "  This is separate from the ipykernel package so we can avoid doing imports until\n"
     ],
     "output_type": "stream"
    }
   ],
   "source": [
    "for i in 서부:\n",
    "    temp=df[df['CD'].str.contains(str(i))]\n",
    "    temp['state'] = '서부'\n",
    "    tk = tk.append(temp)"
   ]
  },
  {
   "cell_type": "code",
   "execution_count": 9,
   "metadata": {
    "pycharm": {
     "is_executing": false,
     "name": "#%%\n"
    }
   },
   "outputs": [
    {
     "name": "stderr",
     "text": [
      "C:\\Users\\mws10\\Anaconda3\\lib\\site-packages\\ipykernel_launcher.py:3: SettingWithCopyWarning: \n",
      "A value is trying to be set on a copy of a slice from a DataFrame.\n",
      "Try using .loc[row_indexer,col_indexer] = value instead\n",
      "\n",
      "See the caveats in the documentation: http://pandas.pydata.org/pandas-docs/stable/user_guide/indexing.html#returning-a-view-versus-a-copy\n",
      "  This is separate from the ipykernel package so we can avoid doing imports until\n"
     ],
     "output_type": "stream"
    }
   ],
   "source": [
    "for i in 경북:\n",
    "    temp=df[df['KOR_NM'].str.contains(str(i))]\n",
    "    temp['state'] = '경북'\n",
    "    tk = tk.append(temp)  "
   ]
  },
  {
   "cell_type": "code",
   "execution_count": 10,
   "outputs": [
    {
     "name": "stderr",
     "text": [
      "C:\\Users\\mws10\\Anaconda3\\lib\\site-packages\\ipykernel_launcher.py:3: SettingWithCopyWarning: \n",
      "A value is trying to be set on a copy of a slice from a DataFrame.\n",
      "Try using .loc[row_indexer,col_indexer] = value instead\n",
      "\n",
      "See the caveats in the documentation: http://pandas.pydata.org/pandas-docs/stable/user_guide/indexing.html#returning-a-view-versus-a-copy\n",
      "  This is separate from the ipykernel package so we can avoid doing imports until\n"
     ],
     "output_type": "stream"
    }
   ],
   "source": [
    "for i in range(1):\n",
    "    temp=df[df['KOR_NM'].str.contains('경산시')]\n",
    "    temp['state'] = '경산'\n",
    "    tk = tk.append(temp)"
   ],
   "metadata": {
    "collapsed": false,
    "pycharm": {
     "name": "#%%\n",
     "is_executing": false
    }
   }
  },
  {
   "cell_type": "code",
   "execution_count": 11,
   "metadata": {
    "pycharm": {
     "is_executing": false,
     "name": "#%%\n"
    }
   },
   "outputs": [
    {
     "name": "stderr",
     "text": [
      "C:\\Users\\mws10\\Anaconda3\\lib\\site-packages\\ipykernel_launcher.py:3: SettingWithCopyWarning: \n",
      "A value is trying to be set on a copy of a slice from a DataFrame.\n",
      "Try using .loc[row_indexer,col_indexer] = value instead\n",
      "\n",
      "See the caveats in the documentation: http://pandas.pydata.org/pandas-docs/stable/user_guide/indexing.html#returning-a-view-versus-a-copy\n",
      "  This is separate from the ipykernel package so we can avoid doing imports until\n",
      "C:\\Users\\mws10\\Anaconda3\\lib\\site-packages\\pandas\\core\\frame.py:7123: FutureWarning: Sorting because non-concatenation axis is not aligned. A future version\n",
      "of pandas will change to not sort by default.\n",
      "\n",
      "To accept the future behavior, pass 'sort=False'.\n",
      "\n",
      "To retain the current behavior and silence the warning, pass 'sort=True'.\n",
      "\n",
      "  sort=sort,\n",
      "C:\\Users\\mws10\\Anaconda3\\lib\\site-packages\\ipykernel_launcher.py:7: SettingWithCopyWarning: \n",
      "A value is trying to be set on a copy of a slice from a DataFrame.\n",
      "Try using .loc[row_indexer,col_indexer] = value instead\n",
      "\n",
      "See the caveats in the documentation: http://pandas.pydata.org/pandas-docs/stable/user_guide/indexing.html#returning-a-view-versus-a-copy\n",
      "  import sys\n"
     ],
     "output_type": "stream"
    },
    {
     "data": {
      "text/plain": "       CD   ENG_NM KOR_NM                                           geometry  \\\n41  27110  Jung-gu     중구  POLYGON ((1099266.034 1764845.475, 1099328.023...   \n44  27200   Nam-gu     남구  POLYGON ((1097464.450 1762903.002, 1097774.420...   \n\n    si state  \n41  중구    동부  \n44  남구    동부  ",
      "text/html": "<div>\n<style scoped>\n    .dataframe tbody tr th:only-of-type {\n        vertical-align: middle;\n    }\n\n    .dataframe tbody tr th {\n        vertical-align: top;\n    }\n\n    .dataframe thead th {\n        text-align: right;\n    }\n</style>\n<table border=\"1\" class=\"dataframe\">\n  <thead>\n    <tr style=\"text-align: right;\">\n      <th></th>\n      <th>CD</th>\n      <th>ENG_NM</th>\n      <th>KOR_NM</th>\n      <th>geometry</th>\n      <th>si</th>\n      <th>state</th>\n    </tr>\n  </thead>\n  <tbody>\n    <tr>\n      <td>41</td>\n      <td>27110</td>\n      <td>Jung-gu</td>\n      <td>중구</td>\n      <td>POLYGON ((1099266.034 1764845.475, 1099328.023...</td>\n      <td>중구</td>\n      <td>동부</td>\n    </tr>\n    <tr>\n      <td>44</td>\n      <td>27200</td>\n      <td>Nam-gu</td>\n      <td>남구</td>\n      <td>POLYGON ((1097464.450 1762903.002, 1097774.420...</td>\n      <td>남구</td>\n      <td>동부</td>\n    </tr>\n  </tbody>\n</table>\n</div>"
     },
     "metadata": {},
     "output_type": "execute_result",
     "execution_count": 11
    }
   ],
   "source": [
    "for i in 하양:\n",
    "    temp=df2[df2['KOR_NM'].str.contains(str(i))]\n",
    "    temp['state'] = '하양'\n",
    "    tk = tk.append(temp)\n",
    "    \n",
    "temp=df[df['KOR_NM'].str.contains(str('영천시'))]\n",
    "temp['state'] = '하양'\n",
    "tk = tk.append(temp)\n",
    "tk.head(2)"
   ]
  },
  {
   "cell_type": "code",
   "execution_count": 12,
   "metadata": {
    "pycharm": {
     "is_executing": false,
     "name": "#%%\n"
    }
   },
   "outputs": [],
   "source": [
    "tk[\"rep\"] = tk[\"geometry\"].representative_point()\n",
    "tk_points = tk.copy()\n",
    "tk_points.set_geometry(\"rep\", inplace = True)"
   ]
  },
  {
   "cell_type": "code",
   "execution_count": 13,
   "metadata": {
    "pycharm": {
     "is_executing": false,
     "name": "#%%\n"
    }
   },
   "outputs": [
    {
     "data": {
      "text/plain": "<Figure size 432x288 with 1 Axes>",
      "image/png": "[encoded data removed]"
     },
     "metadata": {
      "needs_background": "light"
     },
     "output_type": "display_data"
    }
   ],
   "source": [
    "ax = figsize=(19.20,10.80)\n",
    "ax = tk.plot(edgecolor=\"w\",column=\"state\",cmap = 'Set3', linewidth = 0.5)\n",
    "texts = []\n",
    "\"\"\"\n",
    "for x, y, label in zip(tk_points.geometry.x, tk_points.geometry.y, tk_points[\"KOR_NM\"]):\n",
    "    texts.append(plt.text(x, y, label, fontsize = 4)) #, bbox=dict(facecolor=\"w\", alpha=0.2, linewidth = 0)))\n",
    "\n",
    "aT.adjust_text(texts, force_points=0, force_text=0, expand_points=(1,1), expand_text=(1,1), \n",
    "               arrowprops=dict(arrowstyle=\"-\", color='grey', lw=0))\n",
    "\"\"\"\n",
    "ax.set_axis_off()\n",
    "plt.savefig(\"대경.png\", dpi=600)"
   ]
  },
  {
   "cell_type": "code",
   "execution_count": 13,
   "outputs": [],
   "source": [],
   "metadata": {
    "collapsed": false,
    "pycharm": {
     "name": "#%%\n",
     "is_executing": false
    }
   }
  },
  {
   "cell_type": "code",
   "execution_count": 13,
   "outputs": [],
   "source": [
    "\n"
   ],
   "metadata": {
    "collapsed": false,
    "pycharm": {
     "name": "#%%\n",
     "is_executing": false
    }
   }
  }
 ],
 "metadata": {
  "kernelspec": {
   "display_name": "Python 3",
   "language": "python",
   "name": "python3"
  },
  "language_info": {
   "codemirror_mode": {
    "name": "ipython",
    "version": 3
   },
   "file_extension": ".py",
   "mimetype": "text/x-python",
   "name": "python",
   "nbconvert_exporter": "python",
   "pygments_lexer": "ipython3",
   "version": "3.7.4"
  },
  "pycharm": {
   "stem_cell": {
    "cell_type": "raw",
    "source": [],
    "metadata": {
     "collapsed": false
    }
   }
  }
 },
 "nbformat": 4,
 "nbformat_minor": 1
}