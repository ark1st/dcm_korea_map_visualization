{
 "cells": [
  {
   "cell_type": "code",
   "execution_count": 59,
   "metadata": {
    "collapsed": true,
    "pycharm": {
     "is_executing": false
    }
   },
   "outputs": [],
   "source": [
    "import geopandas as gpd\n",
    "import pandas as pd\n",
    "import numpy as np\n",
    "import matplotlib.pyplot as plt"
   ]
  },
  {
   "cell_type": "code",
   "execution_count": 60,
   "outputs": [],
   "source": [
    "plt.rcParams[\"font.family\"] = 'NanumGothic'\n",
    "df = gpd.read_file(\"SIG/TL_SCCO_SIG.shp\", encoding='euc-kr')"
   ],
   "metadata": {
    "collapsed": false,
    "pycharm": {
     "name": "#%%\n",
     "is_executing": false
    }
   }
  },
  {
   "cell_type": "code",
   "execution_count": 62,
   "outputs": [
    {
     "data": {
      "text/plain": "      CD    SIG_ENG_NM SIG_KOR_NM  \\\n0  11110     Jongno-gu        종로구   \n1  11140       Jung-gu         중구   \n2  11170    Yongsan-gu        용산구   \n3  11200  Seongdong-gu        성동구   \n4  11215   Gwangjin-gu        광진구   \n\n                                            geometry   si  \n0  POLYGON ((956615.453 1953567.199, 956621.579 1...  종로구  \n1  POLYGON ((957890.386 1952616.746, 957909.908 1...   중구  \n2  POLYGON ((953115.761 1950834.084, 953114.206 1...  용산구  \n3  POLYGON ((959681.109 1952649.605, 959842.412 1...  성동구  \n4  POLYGON ((964825.082 1952633.250, 964875.590 1...  광진구  ",
      "text/html": "<div>\n<style scoped>\n    .dataframe tbody tr th:only-of-type {\n        vertical-align: middle;\n    }\n\n    .dataframe tbody tr th {\n        vertical-align: top;\n    }\n\n    .dataframe thead th {\n        text-align: right;\n    }\n</style>\n<table border=\"1\" class=\"dataframe\">\n  <thead>\n    <tr style=\"text-align: right;\">\n      <th></th>\n      <th>CD</th>\n      <th>SIG_ENG_NM</th>\n      <th>SIG_KOR_NM</th>\n      <th>geometry</th>\n      <th>si</th>\n    </tr>\n  </thead>\n  <tbody>\n    <tr>\n      <td>0</td>\n      <td>11110</td>\n      <td>Jongno-gu</td>\n      <td>종로구</td>\n      <td>POLYGON ((956615.453 1953567.199, 956621.579 1...</td>\n      <td>종로구</td>\n    </tr>\n    <tr>\n      <td>1</td>\n      <td>11140</td>\n      <td>Jung-gu</td>\n      <td>중구</td>\n      <td>POLYGON ((957890.386 1952616.746, 957909.908 1...</td>\n      <td>중구</td>\n    </tr>\n    <tr>\n      <td>2</td>\n      <td>11170</td>\n      <td>Yongsan-gu</td>\n      <td>용산구</td>\n      <td>POLYGON ((953115.761 1950834.084, 953114.206 1...</td>\n      <td>용산구</td>\n    </tr>\n    <tr>\n      <td>3</td>\n      <td>11200</td>\n      <td>Seongdong-gu</td>\n      <td>성동구</td>\n      <td>POLYGON ((959681.109 1952649.605, 959842.412 1...</td>\n      <td>성동구</td>\n    </tr>\n    <tr>\n      <td>4</td>\n      <td>11215</td>\n      <td>Gwangjin-gu</td>\n      <td>광진구</td>\n      <td>POLYGON ((964825.082 1952633.250, 964875.590 1...</td>\n      <td>광진구</td>\n    </tr>\n  </tbody>\n</table>\n</div>"
     },
     "metadata": {},
     "output_type": "execute_result",
     "execution_count": 62
    }
   ],
   "source": [
    "df['si'] = df['SIG_KOR_NM'].str[0:3]\n",
    "df.rename(columns={'SIG_CD': 'CD'}, inplace=True)\n",
    "df.head()"
   ],
   "metadata": {
    "collapsed": false,
    "pycharm": {
     "name": "#%%\n",
     "is_executing": false
    }
   }
  },
  {
   "cell_type": "code",
   "execution_count": 71,
   "outputs": [
    {
     "data": {
      "text/plain": "        CD    SIG_ENG_NM SIG_KOR_NM  \\\n43   27170        Seo-gu         서구   \n45   27230        Buk-gu         북구   \n48   27710  Dalseong-gun        달성군   \n47   27290     Dalseo-gu        달서구   \n221  47850   Chilgok-gun        칠곡군   \n\n                                              geometry   si  \n43   POLYGON ((1097653.400 1765932.443, 1097584.742...   서구  \n45   POLYGON ((1100548.326 1776461.558, 1100558.656...   북구  \n48   MULTIPOLYGON (((1090134.699 1758418.149, 10902...  달성군  \n47   POLYGON ((1092002.026 1764133.847, 1092138.506...  달서구  \n221  POLYGON ((1089295.195 1792489.707, 1089337.031...  칠곡군  ",
      "text/html": "<div>\n<style scoped>\n    .dataframe tbody tr th:only-of-type {\n        vertical-align: middle;\n    }\n\n    .dataframe tbody tr th {\n        vertical-align: top;\n    }\n\n    .dataframe thead th {\n        text-align: right;\n    }\n</style>\n<table border=\"1\" class=\"dataframe\">\n  <thead>\n    <tr style=\"text-align: right;\">\n      <th></th>\n      <th>CD</th>\n      <th>SIG_ENG_NM</th>\n      <th>SIG_KOR_NM</th>\n      <th>geometry</th>\n      <th>si</th>\n    </tr>\n  </thead>\n  <tbody>\n    <tr>\n      <td>43</td>\n      <td>27170</td>\n      <td>Seo-gu</td>\n      <td>서구</td>\n      <td>POLYGON ((1097653.400 1765932.443, 1097584.742...</td>\n      <td>서구</td>\n    </tr>\n    <tr>\n      <td>45</td>\n      <td>27230</td>\n      <td>Buk-gu</td>\n      <td>북구</td>\n      <td>POLYGON ((1100548.326 1776461.558, 1100558.656...</td>\n      <td>북구</td>\n    </tr>\n    <tr>\n      <td>48</td>\n      <td>27710</td>\n      <td>Dalseong-gun</td>\n      <td>달성군</td>\n      <td>MULTIPOLYGON (((1090134.699 1758418.149, 10902...</td>\n      <td>달성군</td>\n    </tr>\n    <tr>\n      <td>47</td>\n      <td>27290</td>\n      <td>Dalseo-gu</td>\n      <td>달서구</td>\n      <td>POLYGON ((1092002.026 1764133.847, 1092138.506...</td>\n      <td>달서구</td>\n    </tr>\n    <tr>\n      <td>221</td>\n      <td>47850</td>\n      <td>Chilgok-gun</td>\n      <td>칠곡군</td>\n      <td>POLYGON ((1089295.195 1792489.707, 1089337.031...</td>\n      <td>칠곡군</td>\n    </tr>\n  </tbody>\n</table>\n</div>"
     },
     "metadata": {},
     "output_type": "execute_result",
     "execution_count": 71
    }
   ],
   "source": [
    "west = pd.DataFrame()\n",
    "loc = ['27170','27230','27710','27290','47850']\n",
    "for i in loc:\n",
    "    temp=df[df['CD'].str.contains(i)]\n",
    "    append = west.append(temp)\n",
    "    west = append\n",
    "\n",
    "west"
   ],
   "metadata": {
    "collapsed": false,
    "pycharm": {
     "name": "#%%\n",
     "is_executing": false
    }
   }
  },
  {
   "cell_type": "code",
   "execution_count": 72,
   "outputs": [],
   "source": [
    "west['coords'] = west['geometry'].apply(lambda x: x.representative_point().coords[:])\n",
    "west['coords'] = [coords[0] for coords in west['coords']]\n"
   ],
   "metadata": {
    "collapsed": false,
    "pycharm": {
     "name": "#%%\n",
     "is_executing": false
    }
   }
  },
  {
   "cell_type": "code",
   "execution_count": 73,
   "outputs": [
    {
     "data": {
      "text/plain": "<Figure size 432x288 with 1 Axes>",
      "image/png": "[encoded data removed]"
     },
     "metadata": {
      "needs_background": "light"
     },
     "output_type": "display_data"
    }
   ],
   "source": [
    "ax = west.plot(edgecolor=\"w\",column=\"si\")\n",
    "ax.set_title(\"대경서부\")\n",
    "ax.set_axis_off()\n",
    "plt.savefig(\"대경서부.png\", dpi=300)\n"
   ],
   "metadata": {
    "collapsed": false,
    "pycharm": {
     "name": "#%%\n",
     "is_executing": false
    }
   }
  }
 ],
 "metadata": {
  "kernelspec": {
   "display_name": "Python 3",
   "language": "python",
   "name": "python3"
  },
  "language_info": {
   "codemirror_mode": {
    "name": "ipython",
    "version": 2
   },
   "file_extension": ".py",
   "mimetype": "text/x-python",
   "name": "python",
   "nbconvert_exporter": "python",
   "pygments_lexer": "ipython2",
   "version": "2.7.6"
  },
  "pycharm": {
   "stem_cell": {
    "cell_type": "raw",
    "source": [],
    "metadata": {
     "collapsed": false
    }
   }
  }
 },
 "nbformat": 4,
 "nbformat_minor": 0
}