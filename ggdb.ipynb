{
 "cells": [
  {
   "cell_type": "code",
   "execution_count": 10,
   "metadata": {
    "pycharm": {
     "is_executing": false
    }
   },
   "outputs": [],
   "source": [
    "import geopandas as gpd\n",
    "import pandas as pd\n",
    "import numpy as np\n",
    "import matplotlib.pyplot as plt"
   ]
  },
  {
   "cell_type": "code",
   "execution_count": 11,
   "metadata": {
    "pycharm": {
     "is_executing": false,
     "name": "#%%\n"
    }
   },
   "outputs": [
    {
     "data": {
      "text/plain": "  SIG_CD    SIG_ENG_NM SIG_KOR_NM  \\\n0  11110     Jongno-gu        종로구   \n1  11140       Jung-gu         중구   \n2  11170    Yongsan-gu        용산구   \n3  11200  Seongdong-gu        성동구   \n4  11215   Gwangjin-gu        광진구   \n\n                                            geometry  \n0  POLYGON ((956615.453 1953567.199, 956621.579 1...  \n1  POLYGON ((957890.386 1952616.746, 957909.908 1...  \n2  POLYGON ((953115.761 1950834.084, 953114.206 1...  \n3  POLYGON ((959681.109 1952649.605, 959842.412 1...  \n4  POLYGON ((964825.082 1952633.250, 964875.590 1...  ",
      "text/html": "<div>\n<style scoped>\n    .dataframe tbody tr th:only-of-type {\n        vertical-align: middle;\n    }\n\n    .dataframe tbody tr th {\n        vertical-align: top;\n    }\n\n    .dataframe thead th {\n        text-align: right;\n    }\n</style>\n<table border=\"1\" class=\"dataframe\">\n  <thead>\n    <tr style=\"text-align: right;\">\n      <th></th>\n      <th>SIG_CD</th>\n      <th>SIG_ENG_NM</th>\n      <th>SIG_KOR_NM</th>\n      <th>geometry</th>\n    </tr>\n  </thead>\n  <tbody>\n    <tr>\n      <td>0</td>\n      <td>11110</td>\n      <td>Jongno-gu</td>\n      <td>종로구</td>\n      <td>POLYGON ((956615.453 1953567.199, 956621.579 1...</td>\n    </tr>\n    <tr>\n      <td>1</td>\n      <td>11140</td>\n      <td>Jung-gu</td>\n      <td>중구</td>\n      <td>POLYGON ((957890.386 1952616.746, 957909.908 1...</td>\n    </tr>\n    <tr>\n      <td>2</td>\n      <td>11170</td>\n      <td>Yongsan-gu</td>\n      <td>용산구</td>\n      <td>POLYGON ((953115.761 1950834.084, 953114.206 1...</td>\n    </tr>\n    <tr>\n      <td>3</td>\n      <td>11200</td>\n      <td>Seongdong-gu</td>\n      <td>성동구</td>\n      <td>POLYGON ((959681.109 1952649.605, 959842.412 1...</td>\n    </tr>\n    <tr>\n      <td>4</td>\n      <td>11215</td>\n      <td>Gwangjin-gu</td>\n      <td>광진구</td>\n      <td>POLYGON ((964825.082 1952633.250, 964875.590 1...</td>\n    </tr>\n  </tbody>\n</table>\n</div>"
     },
     "metadata": {},
     "output_type": "execute_result",
     "execution_count": 11
    }
   ],
   "source": [
    "plt.rcParams[\"font.family\"] = 'NanumGothic'\n",
    "df = gpd.read_file(\"SIG/TL_SCCO_SIG.shp\", encoding='euc-kr')\n",
    "df.head()"
   ]
  },
  {
   "cell_type": "code",
   "execution_count": 12,
   "metadata": {
    "pycharm": {
     "is_executing": false,
     "name": "#%%\n"
    }
   },
   "outputs": [
    {
     "data": {
      "text/plain": "  SIG_CD    SIG_ENG_NM SIG_KOR_NM  \\\n0  11110     Jongno-gu        종로구   \n1  11140       Jung-gu         중구   \n2  11170    Yongsan-gu        용산구   \n3  11200  Seongdong-gu        성동구   \n4  11215   Gwangjin-gu        광진구   \n\n                                            geometry   si  \n0  POLYGON ((956615.453 1953567.199, 956621.579 1...  종로구  \n1  POLYGON ((957890.386 1952616.746, 957909.908 1...   중구  \n2  POLYGON ((953115.761 1950834.084, 953114.206 1...  용산구  \n3  POLYGON ((959681.109 1952649.605, 959842.412 1...  성동구  \n4  POLYGON ((964825.082 1952633.250, 964875.590 1...  광진구  ",
      "text/html": "<div>\n<style scoped>\n    .dataframe tbody tr th:only-of-type {\n        vertical-align: middle;\n    }\n\n    .dataframe tbody tr th {\n        vertical-align: top;\n    }\n\n    .dataframe thead th {\n        text-align: right;\n    }\n</style>\n<table border=\"1\" class=\"dataframe\">\n  <thead>\n    <tr style=\"text-align: right;\">\n      <th></th>\n      <th>SIG_CD</th>\n      <th>SIG_ENG_NM</th>\n      <th>SIG_KOR_NM</th>\n      <th>geometry</th>\n      <th>si</th>\n    </tr>\n  </thead>\n  <tbody>\n    <tr>\n      <td>0</td>\n      <td>11110</td>\n      <td>Jongno-gu</td>\n      <td>종로구</td>\n      <td>POLYGON ((956615.453 1953567.199, 956621.579 1...</td>\n      <td>종로구</td>\n    </tr>\n    <tr>\n      <td>1</td>\n      <td>11140</td>\n      <td>Jung-gu</td>\n      <td>중구</td>\n      <td>POLYGON ((957890.386 1952616.746, 957909.908 1...</td>\n      <td>중구</td>\n    </tr>\n    <tr>\n      <td>2</td>\n      <td>11170</td>\n      <td>Yongsan-gu</td>\n      <td>용산구</td>\n      <td>POLYGON ((953115.761 1950834.084, 953114.206 1...</td>\n      <td>용산구</td>\n    </tr>\n    <tr>\n      <td>3</td>\n      <td>11200</td>\n      <td>Seongdong-gu</td>\n      <td>성동구</td>\n      <td>POLYGON ((959681.109 1952649.605, 959842.412 1...</td>\n      <td>성동구</td>\n    </tr>\n    <tr>\n      <td>4</td>\n      <td>11215</td>\n      <td>Gwangjin-gu</td>\n      <td>광진구</td>\n      <td>POLYGON ((964825.082 1952633.250, 964875.590 1...</td>\n      <td>광진구</td>\n    </tr>\n  </tbody>\n</table>\n</div>"
     },
     "metadata": {},
     "output_type": "execute_result",
     "execution_count": 12
    }
   ],
   "source": [
    "df['si'] = df['SIG_KOR_NM'].str[0:3]\n",
    "df.head()"
   ]
  },
  {
   "cell_type": "code",
   "execution_count": 13,
   "metadata": {
    "pycharm": {
     "is_executing": false,
     "name": "#%%\n"
    }
   },
   "outputs": [
    {
     "data": {
      "text/plain": "    SIG_CD               SIG_ENG_NM SIG_KOR_NM  \\\n79   41131  Sujeong-gu, Seongnam-si    성남시 수정구   \n80   41133  Jungwon-gu, Seongnam-si    성남시 중원구   \n81   41135  Bundang-gu, Seongnam-si    성남시 분당구   \n101  41450                 Hanam-si        하남시   \n110  41610               Gwangju-si        광주시   \n102  41461     Cheoin-gu, Yongin-si     용인시처인구   \n103  41463    Giheung-gu, Yongin-si     용인시기흥구   \n104  41465       Suji-gu, Yongin-si     용인시수지구   \n106  41500                Icheon-si        이천시   \n113  41670                 Yeoju-si        여주시   \n116  41830           Yangpyeong-gun        양평군   \n\n                                              geometry   si  \n79   POLYGON ((968165.515 1941710.496, 968177.333 1...  성남시  \n80   POLYGON ((971787.037 1941627.348, 971794.930 1...  성남시  \n81   POLYGON ((962459.288 1933176.518, 962459.447 1...  성남시  \n101  POLYGON ((973085.483 1954673.512, 973158.061 1...  하남시  \n110  POLYGON ((967460.104 1927897.516, 967474.627 1...  광주시  \n102  POLYGON ((965242.608 1902868.747, 965243.843 1...  용인시  \n103  POLYGON ((961408.385 1919141.204, 961408.438 1...  용인시  \n104  POLYGON ((958355.298 1930444.111, 958363.464 1...  용인시  \n106  POLYGON ((997562.338 1928986.116, 997563.006 1...  이천시  \n113  POLYGON ((1001702.361 1937472.187, 1001797.089...  여주시  \n116  POLYGON ((982850.492 1946970.632, 982851.709 1...  양평군  ",
      "text/html": "<div>\n<style scoped>\n    .dataframe tbody tr th:only-of-type {\n        vertical-align: middle;\n    }\n\n    .dataframe tbody tr th {\n        vertical-align: top;\n    }\n\n    .dataframe thead th {\n        text-align: right;\n    }\n</style>\n<table border=\"1\" class=\"dataframe\">\n  <thead>\n    <tr style=\"text-align: right;\">\n      <th></th>\n      <th>SIG_CD</th>\n      <th>SIG_ENG_NM</th>\n      <th>SIG_KOR_NM</th>\n      <th>geometry</th>\n      <th>si</th>\n    </tr>\n  </thead>\n  <tbody>\n    <tr>\n      <td>79</td>\n      <td>41131</td>\n      <td>Sujeong-gu, Seongnam-si</td>\n      <td>성남시 수정구</td>\n      <td>POLYGON ((968165.515 1941710.496, 968177.333 1...</td>\n      <td>성남시</td>\n    </tr>\n    <tr>\n      <td>80</td>\n      <td>41133</td>\n      <td>Jungwon-gu, Seongnam-si</td>\n      <td>성남시 중원구</td>\n      <td>POLYGON ((971787.037 1941627.348, 971794.930 1...</td>\n      <td>성남시</td>\n    </tr>\n    <tr>\n      <td>81</td>\n      <td>41135</td>\n      <td>Bundang-gu, Seongnam-si</td>\n      <td>성남시 분당구</td>\n      <td>POLYGON ((962459.288 1933176.518, 962459.447 1...</td>\n      <td>성남시</td>\n    </tr>\n    <tr>\n      <td>101</td>\n      <td>41450</td>\n      <td>Hanam-si</td>\n      <td>하남시</td>\n      <td>POLYGON ((973085.483 1954673.512, 973158.061 1...</td>\n      <td>하남시</td>\n    </tr>\n    <tr>\n      <td>110</td>\n      <td>41610</td>\n      <td>Gwangju-si</td>\n      <td>광주시</td>\n      <td>POLYGON ((967460.104 1927897.516, 967474.627 1...</td>\n      <td>광주시</td>\n    </tr>\n    <tr>\n      <td>102</td>\n      <td>41461</td>\n      <td>Cheoin-gu, Yongin-si</td>\n      <td>용인시처인구</td>\n      <td>POLYGON ((965242.608 1902868.747, 965243.843 1...</td>\n      <td>용인시</td>\n    </tr>\n    <tr>\n      <td>103</td>\n      <td>41463</td>\n      <td>Giheung-gu, Yongin-si</td>\n      <td>용인시기흥구</td>\n      <td>POLYGON ((961408.385 1919141.204, 961408.438 1...</td>\n      <td>용인시</td>\n    </tr>\n    <tr>\n      <td>104</td>\n      <td>41465</td>\n      <td>Suji-gu, Yongin-si</td>\n      <td>용인시수지구</td>\n      <td>POLYGON ((958355.298 1930444.111, 958363.464 1...</td>\n      <td>용인시</td>\n    </tr>\n    <tr>\n      <td>106</td>\n      <td>41500</td>\n      <td>Icheon-si</td>\n      <td>이천시</td>\n      <td>POLYGON ((997562.338 1928986.116, 997563.006 1...</td>\n      <td>이천시</td>\n    </tr>\n    <tr>\n      <td>113</td>\n      <td>41670</td>\n      <td>Yeoju-si</td>\n      <td>여주시</td>\n      <td>POLYGON ((1001702.361 1937472.187, 1001797.089...</td>\n      <td>여주시</td>\n    </tr>\n    <tr>\n      <td>116</td>\n      <td>41830</td>\n      <td>Yangpyeong-gun</td>\n      <td>양평군</td>\n      <td>POLYGON ((982850.492 1946970.632, 982851.709 1...</td>\n      <td>양평군</td>\n    </tr>\n  </tbody>\n</table>\n</div>"
     },
     "metadata": {},
     "output_type": "execute_result",
     "execution_count": 13
    }
   ],
   "source": [
    "gg = pd.DataFrame()\n",
    "loc = [\"성남시\",\"하남시\",\"광주시\",\"용인시\",\"이천시\",\"여주시\",\"양평군\"]\n",
    "for i in loc:\n",
    "    temp=df[df['si'].str.contains(i)]\n",
    "    gg = gg.append(temp)\n",
    "\n",
    "gg "
   ]
  },
  {
   "cell_type": "code",
   "execution_count": 14,
   "outputs": [],
   "source": [
    "gg['coords'] = gg['geometry'].apply(lambda x: x.representative_point().coords[:])\n",
    "gg['coords'] = [coords[0] for coords in gg['coords']]\n"
   ],
   "metadata": {
    "collapsed": false,
    "pycharm": {
     "name": "#%%\n",
     "is_executing": false
    }
   }
  },
  {
   "cell_type": "code",
   "execution_count": 22,
   "outputs": [
    {
     "traceback": [
      "\u001b[1;31m---------------------------------------------------------------------------\u001b[0m",
      "\u001b[1;31mAttributeError\u001b[0m                            Traceback (most recent call last)",
      "\u001b[1;32m<ipython-input-22-d375b1fe943d>\u001b[0m in \u001b[0;36m<module>\u001b[1;34m\u001b[0m\n\u001b[1;32m----> 1\u001b[1;33m \u001b[0max\u001b[0m \u001b[1;33m=\u001b[0m \u001b[0mgg\u001b[0m\u001b[1;33m.\u001b[0m\u001b[0mplot\u001b[0m\u001b[1;33m(\u001b[0m\u001b[0medgecolor\u001b[0m\u001b[1;33m=\u001b[0m\u001b[1;34m\"w\"\u001b[0m\u001b[1;33m,\u001b[0m\u001b[0mcolumn\u001b[0m\u001b[1;33m=\u001b[0m\u001b[1;34m\"si\"\u001b[0m\u001b[1;33m,\u001b[0m \u001b[0mcmap\u001b[0m \u001b[1;33m=\u001b[0m \u001b[1;34m'Set2'\u001b[0m\u001b[1;33m,\u001b[0m \u001b[0medgehight\u001b[0m \u001b[1;33m=\u001b[0m\u001b[1;36m1\u001b[0m\u001b[1;33m)\u001b[0m\u001b[1;33m\u001b[0m\u001b[1;33m\u001b[0m\u001b[0m\n\u001b[0m\u001b[0;32m      2\u001b[0m \u001b[0max\u001b[0m\u001b[1;33m.\u001b[0m\u001b[0mset_title\u001b[0m\u001b[1;33m(\u001b[0m\u001b[1;34m\"경기동부\"\u001b[0m\u001b[1;33m)\u001b[0m\u001b[1;33m\u001b[0m\u001b[1;33m\u001b[0m\u001b[0m\n\u001b[0;32m      3\u001b[0m \u001b[0max\u001b[0m\u001b[1;33m.\u001b[0m\u001b[0mset_axis_off\u001b[0m\u001b[1;33m(\u001b[0m\u001b[1;33m)\u001b[0m\u001b[1;33m\u001b[0m\u001b[1;33m\u001b[0m\u001b[0m\n\u001b[0;32m      4\u001b[0m \u001b[0mplt\u001b[0m\u001b[1;33m.\u001b[0m\u001b[0msavefig\u001b[0m\u001b[1;33m(\u001b[0m\u001b[1;34m\"경기동부.png\"\u001b[0m\u001b[1;33m,\u001b[0m \u001b[0mdpi\u001b[0m\u001b[1;33m=\u001b[0m\u001b[1;36m300\u001b[0m\u001b[1;33m)\u001b[0m\u001b[1;33m\u001b[0m\u001b[1;33m\u001b[0m\u001b[0m\n\u001b[0;32m      5\u001b[0m \u001b[1;33m\u001b[0m\u001b[0m\n",
      "\u001b[1;32m~\\Anaconda3\\lib\\site-packages\\geopandas\\geodataframe.py\u001b[0m in \u001b[0;36mplot\u001b[1;34m(self, *args, **kwargs)\u001b[0m\n\u001b[0;32m    604\u001b[0m         \u001b[1;32mfrom\u001b[0m \u001b[0mthere\u001b[0m\u001b[1;33m.\u001b[0m\u001b[1;33m\u001b[0m\u001b[1;33m\u001b[0m\u001b[0m\n\u001b[0;32m    605\u001b[0m         \"\"\"\n\u001b[1;32m--> 606\u001b[1;33m         \u001b[1;32mreturn\u001b[0m \u001b[0mplot_dataframe\u001b[0m\u001b[1;33m(\u001b[0m\u001b[0mself\u001b[0m\u001b[1;33m,\u001b[0m \u001b[1;33m*\u001b[0m\u001b[0margs\u001b[0m\u001b[1;33m,\u001b[0m \u001b[1;33m**\u001b[0m\u001b[0mkwargs\u001b[0m\u001b[1;33m)\u001b[0m\u001b[1;33m\u001b[0m\u001b[1;33m\u001b[0m\u001b[0m\n\u001b[0m\u001b[0;32m    607\u001b[0m \u001b[1;33m\u001b[0m\u001b[0m\n\u001b[0;32m    608\u001b[0m     \u001b[0mplot\u001b[0m\u001b[1;33m.\u001b[0m\u001b[0m__doc__\u001b[0m \u001b[1;33m=\u001b[0m \u001b[0mplot_dataframe\u001b[0m\u001b[1;33m.\u001b[0m\u001b[0m__doc__\u001b[0m\u001b[1;33m\u001b[0m\u001b[1;33m\u001b[0m\u001b[0m\n",
      "\u001b[1;32m~\\Anaconda3\\lib\\site-packages\\geopandas\\plotting.py\u001b[0m in \u001b[0;36mplot_dataframe\u001b[1;34m(df, column, cmap, color, ax, cax, categorical, legend, scheme, k, vmin, vmax, markersize, figsize, legend_kwds, classification_kwds, **style_kwds)\u001b[0m\n\u001b[0;32m    556\u001b[0m     \u001b[1;32mif\u001b[0m \u001b[1;32mnot\u001b[0m \u001b[0mpolys\u001b[0m\u001b[1;33m.\u001b[0m\u001b[0mempty\u001b[0m\u001b[1;33m:\u001b[0m\u001b[1;33m\u001b[0m\u001b[1;33m\u001b[0m\u001b[0m\n\u001b[0;32m    557\u001b[0m         plot_polygon_collection(\n\u001b[1;32m--> 558\u001b[1;33m             \u001b[0max\u001b[0m\u001b[1;33m,\u001b[0m \u001b[0mpolys\u001b[0m\u001b[1;33m,\u001b[0m \u001b[0mvalues\u001b[0m\u001b[1;33m[\u001b[0m\u001b[0mpoly_idx\u001b[0m\u001b[1;33m]\u001b[0m\u001b[1;33m,\u001b[0m \u001b[0mvmin\u001b[0m\u001b[1;33m=\u001b[0m\u001b[0mmn\u001b[0m\u001b[1;33m,\u001b[0m \u001b[0mvmax\u001b[0m\u001b[1;33m=\u001b[0m\u001b[0mmx\u001b[0m\u001b[1;33m,\u001b[0m \u001b[0mcmap\u001b[0m\u001b[1;33m=\u001b[0m\u001b[0mcmap\u001b[0m\u001b[1;33m,\u001b[0m \u001b[1;33m**\u001b[0m\u001b[0mstyle_kwds\u001b[0m\u001b[1;33m\u001b[0m\u001b[1;33m\u001b[0m\u001b[0m\n\u001b[0m\u001b[0;32m    559\u001b[0m         )\n\u001b[0;32m    560\u001b[0m \u001b[1;33m\u001b[0m\u001b[0m\n",
      "\u001b[1;32m~\\Anaconda3\\lib\\site-packages\\geopandas\\plotting.py\u001b[0m in \u001b[0;36mplot_polygon_collection\u001b[1;34m(ax, geoms, values, color, cmap, vmin, vmax, **kwargs)\u001b[0m\n\u001b[0;32m    111\u001b[0m                     \u001b[0mkwargs\u001b[0m\u001b[1;33m[\u001b[0m\u001b[0matt\u001b[0m\u001b[1;33m]\u001b[0m \u001b[1;33m=\u001b[0m \u001b[0mnp\u001b[0m\u001b[1;33m.\u001b[0m\u001b[0mtake\u001b[0m\u001b[1;33m(\u001b[0m\u001b[0mkwargs\u001b[0m\u001b[1;33m[\u001b[0m\u001b[0matt\u001b[0m\u001b[1;33m]\u001b[0m\u001b[1;33m,\u001b[0m \u001b[0mmultiindex\u001b[0m\u001b[1;33m)\u001b[0m\u001b[1;33m\u001b[0m\u001b[1;33m\u001b[0m\u001b[0m\n\u001b[0;32m    112\u001b[0m \u001b[1;33m\u001b[0m\u001b[0m\n\u001b[1;32m--> 113\u001b[1;33m     \u001b[0mcollection\u001b[0m \u001b[1;33m=\u001b[0m \u001b[0mPatchCollection\u001b[0m\u001b[1;33m(\u001b[0m\u001b[1;33m[\u001b[0m\u001b[0mPolygonPatch\u001b[0m\u001b[1;33m(\u001b[0m\u001b[0mpoly\u001b[0m\u001b[1;33m)\u001b[0m \u001b[1;32mfor\u001b[0m \u001b[0mpoly\u001b[0m \u001b[1;32min\u001b[0m \u001b[0mgeoms\u001b[0m\u001b[1;33m]\u001b[0m\u001b[1;33m,\u001b[0m \u001b[1;33m**\u001b[0m\u001b[0mkwargs\u001b[0m\u001b[1;33m)\u001b[0m\u001b[1;33m\u001b[0m\u001b[1;33m\u001b[0m\u001b[0m\n\u001b[0m\u001b[0;32m    114\u001b[0m \u001b[1;33m\u001b[0m\u001b[0m\n\u001b[0;32m    115\u001b[0m     \u001b[1;32mif\u001b[0m \u001b[0mvalues\u001b[0m \u001b[1;32mis\u001b[0m \u001b[1;32mnot\u001b[0m \u001b[1;32mNone\u001b[0m\u001b[1;33m:\u001b[0m\u001b[1;33m\u001b[0m\u001b[1;33m\u001b[0m\u001b[0m\n",
      "\u001b[1;32m~\\Anaconda3\\lib\\site-packages\\matplotlib\\collections.py\u001b[0m in \u001b[0;36m__init__\u001b[1;34m(self, patches, match_original, **kwargs)\u001b[0m\n\u001b[0;32m   1803\u001b[0m             \u001b[0mkwargs\u001b[0m\u001b[1;33m[\u001b[0m\u001b[1;34m'antialiaseds'\u001b[0m\u001b[1;33m]\u001b[0m \u001b[1;33m=\u001b[0m \u001b[1;33m[\u001b[0m\u001b[0mp\u001b[0m\u001b[1;33m.\u001b[0m\u001b[0mget_antialiased\u001b[0m\u001b[1;33m(\u001b[0m\u001b[1;33m)\u001b[0m \u001b[1;32mfor\u001b[0m \u001b[0mp\u001b[0m \u001b[1;32min\u001b[0m \u001b[0mpatches\u001b[0m\u001b[1;33m]\u001b[0m\u001b[1;33m\u001b[0m\u001b[1;33m\u001b[0m\u001b[0m\n\u001b[0;32m   1804\u001b[0m \u001b[1;33m\u001b[0m\u001b[0m\n\u001b[1;32m-> 1805\u001b[1;33m         \u001b[0mCollection\u001b[0m\u001b[1;33m.\u001b[0m\u001b[0m__init__\u001b[0m\u001b[1;33m(\u001b[0m\u001b[0mself\u001b[0m\u001b[1;33m,\u001b[0m \u001b[1;33m**\u001b[0m\u001b[0mkwargs\u001b[0m\u001b[1;33m)\u001b[0m\u001b[1;33m\u001b[0m\u001b[1;33m\u001b[0m\u001b[0m\n\u001b[0m\u001b[0;32m   1806\u001b[0m \u001b[1;33m\u001b[0m\u001b[0m\n\u001b[0;32m   1807\u001b[0m         \u001b[0mself\u001b[0m\u001b[1;33m.\u001b[0m\u001b[0mset_paths\u001b[0m\u001b[1;33m(\u001b[0m\u001b[0mpatches\u001b[0m\u001b[1;33m)\u001b[0m\u001b[1;33m\u001b[0m\u001b[1;33m\u001b[0m\u001b[0m\n",
      "\u001b[1;32m~\\Anaconda3\\lib\\site-packages\\matplotlib\\collections.py\u001b[0m in \u001b[0;36m__init__\u001b[1;34m(self, edgecolors, facecolors, linewidths, linestyles, capstyle, joinstyle, antialiaseds, offsets, transOffset, norm, cmap, pickradius, hatch, urls, offset_position, zorder, **kwargs)\u001b[0m\n\u001b[0;32m    160\u001b[0m \u001b[1;33m\u001b[0m\u001b[0m\n\u001b[0;32m    161\u001b[0m         \u001b[0mself\u001b[0m\u001b[1;33m.\u001b[0m\u001b[0m_path_effects\u001b[0m \u001b[1;33m=\u001b[0m \u001b[1;32mNone\u001b[0m\u001b[1;33m\u001b[0m\u001b[1;33m\u001b[0m\u001b[0m\n\u001b[1;32m--> 162\u001b[1;33m         \u001b[0mself\u001b[0m\u001b[1;33m.\u001b[0m\u001b[0mupdate\u001b[0m\u001b[1;33m(\u001b[0m\u001b[0mkwargs\u001b[0m\u001b[1;33m)\u001b[0m\u001b[1;33m\u001b[0m\u001b[1;33m\u001b[0m\u001b[0m\n\u001b[0m\u001b[0;32m    163\u001b[0m         \u001b[0mself\u001b[0m\u001b[1;33m.\u001b[0m\u001b[0m_paths\u001b[0m \u001b[1;33m=\u001b[0m \u001b[1;32mNone\u001b[0m\u001b[1;33m\u001b[0m\u001b[1;33m\u001b[0m\u001b[0m\n\u001b[0;32m    164\u001b[0m \u001b[1;33m\u001b[0m\u001b[0m\n",
      "\u001b[1;32m~\\Anaconda3\\lib\\site-packages\\matplotlib\\artist.py\u001b[0m in \u001b[0;36mupdate\u001b[1;34m(self, props)\u001b[0m\n\u001b[0;32m    972\u001b[0m \u001b[1;33m\u001b[0m\u001b[0m\n\u001b[0;32m    973\u001b[0m         \u001b[1;32mwith\u001b[0m \u001b[0mcbook\u001b[0m\u001b[1;33m.\u001b[0m\u001b[0m_setattr_cm\u001b[0m\u001b[1;33m(\u001b[0m\u001b[0mself\u001b[0m\u001b[1;33m,\u001b[0m \u001b[0meventson\u001b[0m\u001b[1;33m=\u001b[0m\u001b[1;32mFalse\u001b[0m\u001b[1;33m)\u001b[0m\u001b[1;33m:\u001b[0m\u001b[1;33m\u001b[0m\u001b[1;33m\u001b[0m\u001b[0m\n\u001b[1;32m--> 974\u001b[1;33m             \u001b[0mret\u001b[0m \u001b[1;33m=\u001b[0m \u001b[1;33m[\u001b[0m\u001b[0m_update_property\u001b[0m\u001b[1;33m(\u001b[0m\u001b[0mself\u001b[0m\u001b[1;33m,\u001b[0m \u001b[0mk\u001b[0m\u001b[1;33m,\u001b[0m \u001b[0mv\u001b[0m\u001b[1;33m)\u001b[0m \u001b[1;32mfor\u001b[0m \u001b[0mk\u001b[0m\u001b[1;33m,\u001b[0m \u001b[0mv\u001b[0m \u001b[1;32min\u001b[0m \u001b[0mprops\u001b[0m\u001b[1;33m.\u001b[0m\u001b[0mitems\u001b[0m\u001b[1;33m(\u001b[0m\u001b[1;33m)\u001b[0m\u001b[1;33m]\u001b[0m\u001b[1;33m\u001b[0m\u001b[1;33m\u001b[0m\u001b[0m\n\u001b[0m\u001b[0;32m    975\u001b[0m \u001b[1;33m\u001b[0m\u001b[0m\n\u001b[0;32m    976\u001b[0m         \u001b[1;32mif\u001b[0m \u001b[0mlen\u001b[0m\u001b[1;33m(\u001b[0m\u001b[0mret\u001b[0m\u001b[1;33m)\u001b[0m\u001b[1;33m:\u001b[0m\u001b[1;33m\u001b[0m\u001b[1;33m\u001b[0m\u001b[0m\n",
      "\u001b[1;32m~\\Anaconda3\\lib\\site-packages\\matplotlib\\artist.py\u001b[0m in \u001b[0;36m<listcomp>\u001b[1;34m(.0)\u001b[0m\n\u001b[0;32m    972\u001b[0m \u001b[1;33m\u001b[0m\u001b[0m\n\u001b[0;32m    973\u001b[0m         \u001b[1;32mwith\u001b[0m \u001b[0mcbook\u001b[0m\u001b[1;33m.\u001b[0m\u001b[0m_setattr_cm\u001b[0m\u001b[1;33m(\u001b[0m\u001b[0mself\u001b[0m\u001b[1;33m,\u001b[0m \u001b[0meventson\u001b[0m\u001b[1;33m=\u001b[0m\u001b[1;32mFalse\u001b[0m\u001b[1;33m)\u001b[0m\u001b[1;33m:\u001b[0m\u001b[1;33m\u001b[0m\u001b[1;33m\u001b[0m\u001b[0m\n\u001b[1;32m--> 974\u001b[1;33m             \u001b[0mret\u001b[0m \u001b[1;33m=\u001b[0m \u001b[1;33m[\u001b[0m\u001b[0m_update_property\u001b[0m\u001b[1;33m(\u001b[0m\u001b[0mself\u001b[0m\u001b[1;33m,\u001b[0m \u001b[0mk\u001b[0m\u001b[1;33m,\u001b[0m \u001b[0mv\u001b[0m\u001b[1;33m)\u001b[0m \u001b[1;32mfor\u001b[0m \u001b[0mk\u001b[0m\u001b[1;33m,\u001b[0m \u001b[0mv\u001b[0m \u001b[1;32min\u001b[0m \u001b[0mprops\u001b[0m\u001b[1;33m.\u001b[0m\u001b[0mitems\u001b[0m\u001b[1;33m(\u001b[0m\u001b[1;33m)\u001b[0m\u001b[1;33m]\u001b[0m\u001b[1;33m\u001b[0m\u001b[1;33m\u001b[0m\u001b[0m\n\u001b[0m\u001b[0;32m    975\u001b[0m \u001b[1;33m\u001b[0m\u001b[0m\n\u001b[0;32m    976\u001b[0m         \u001b[1;32mif\u001b[0m \u001b[0mlen\u001b[0m\u001b[1;33m(\u001b[0m\u001b[0mret\u001b[0m\u001b[1;33m)\u001b[0m\u001b[1;33m:\u001b[0m\u001b[1;33m\u001b[0m\u001b[1;33m\u001b[0m\u001b[0m\n",
      "\u001b[1;32m~\\Anaconda3\\lib\\site-packages\\matplotlib\\artist.py\u001b[0m in \u001b[0;36m_update_property\u001b[1;34m(self, k, v)\u001b[0m\n\u001b[0;32m    968\u001b[0m                 \u001b[1;32mif\u001b[0m \u001b[1;32mnot\u001b[0m \u001b[0mcallable\u001b[0m\u001b[1;33m(\u001b[0m\u001b[0mfunc\u001b[0m\u001b[1;33m)\u001b[0m\u001b[1;33m:\u001b[0m\u001b[1;33m\u001b[0m\u001b[1;33m\u001b[0m\u001b[0m\n\u001b[0;32m    969\u001b[0m                     raise AttributeError('{!r} object has no property {!r}'\n\u001b[1;32m--> 970\u001b[1;33m                                          .format(type(self).__name__, k))\n\u001b[0m\u001b[0;32m    971\u001b[0m                 \u001b[1;32mreturn\u001b[0m \u001b[0mfunc\u001b[0m\u001b[1;33m(\u001b[0m\u001b[0mv\u001b[0m\u001b[1;33m)\u001b[0m\u001b[1;33m\u001b[0m\u001b[1;33m\u001b[0m\u001b[0m\n\u001b[0;32m    972\u001b[0m \u001b[1;33m\u001b[0m\u001b[0m\n",
      "\u001b[1;31mAttributeError\u001b[0m: 'PatchCollection' object has no property 'edgehight'"
     ],
     "ename": "AttributeError",
     "evalue": "'PatchCollection' object has no property 'edgehight'",
     "output_type": "error"
    },
    {
     "data": {
      "text/plain": "<Figure size 432x288 with 1 Axes>",
      "image/png": "[encoded data removed]"
     },
     "metadata": {
      "needs_background": "light"
     },
     "output_type": "display_data"
    }
   ],
   "source": [
    "ax = gg.plot(edgecolor=\"w\",column=\"si\", cmap = 'Set2')\n",
    "ax.set_title(\"경기동부\")\n",
    "ax.set_axis_off()\n",
    "plt.savefig(\"경기동부.png\", dpi=300)\n"
   ],
   "metadata": {
    "collapsed": false,
    "pycharm": {
     "name": "#%%\n",
     "is_executing": false
    }
   }
  }
 ],
 "metadata": {
  "kernelspec": {
   "display_name": "Python 3",
   "language": "python",
   "name": "python3"
  },
  "language_info": {
   "codemirror_mode": {
    "name": "ipython",
    "version": 3
   },
   "file_extension": ".py",
   "mimetype": "text/x-python",
   "name": "python",
   "nbconvert_exporter": "python",
   "pygments_lexer": "ipython3",
   "version": "3.7.4"
  },
  "pycharm": {
   "stem_cell": {
    "cell_type": "raw",
    "source": [],
    "metadata": {
     "collapsed": false
    }
   }
  }
 },
 "nbformat": 4,
 "nbformat_minor": 1
}