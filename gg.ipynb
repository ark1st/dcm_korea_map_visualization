{
 "cells": [
  {
   "cell_type": "code",
   "execution_count": 1,
   "metadata": {
    "pycharm": {
     "is_executing": false,
     "name": "#%%\n"
    }
   },
   "outputs": [],
   "source": [
    "import geopandas as gpd\n",
    "import pandas as pd\n",
    "import numpy as np\n",
    "import matplotlib.pyplot as plt\n",
    "import adjustText as aT\n",
    "import matplotlib.patheffects as PathEffects"
   ]
  },
  {
   "cell_type": "code",
   "execution_count": 2,
   "metadata": {
    "pycharm": {
     "is_executing": false,
     "name": "#%%\n"
    }
   },
   "outputs": [
    {
     "data": {
      "text/plain": "  SIG_CD    SIG_ENG_NM SIG_KOR_NM  \\\n0  11110     Jongno-gu        종로구   \n1  11140       Jung-gu         중구   \n2  11170    Yongsan-gu        용산구   \n3  11200  Seongdong-gu        성동구   \n4  11215   Gwangjin-gu        광진구   \n\n                                            geometry  \n0  POLYGON ((956615.453 1953567.199, 956621.579 1...  \n1  POLYGON ((957890.386 1952616.746, 957909.908 1...  \n2  POLYGON ((953115.761 1950834.084, 953114.206 1...  \n3  POLYGON ((959681.109 1952649.605, 959842.412 1...  \n4  POLYGON ((964825.082 1952633.250, 964875.590 1...  ",
      "text/html": "<div>\n<style scoped>\n    .dataframe tbody tr th:only-of-type {\n        vertical-align: middle;\n    }\n\n    .dataframe tbody tr th {\n        vertical-align: top;\n    }\n\n    .dataframe thead th {\n        text-align: right;\n    }\n</style>\n<table border=\"1\" class=\"dataframe\">\n  <thead>\n    <tr style=\"text-align: right;\">\n      <th></th>\n      <th>SIG_CD</th>\n      <th>SIG_ENG_NM</th>\n      <th>SIG_KOR_NM</th>\n      <th>geometry</th>\n    </tr>\n  </thead>\n  <tbody>\n    <tr>\n      <td>0</td>\n      <td>11110</td>\n      <td>Jongno-gu</td>\n      <td>종로구</td>\n      <td>POLYGON ((956615.453 1953567.199, 956621.579 1...</td>\n    </tr>\n    <tr>\n      <td>1</td>\n      <td>11140</td>\n      <td>Jung-gu</td>\n      <td>중구</td>\n      <td>POLYGON ((957890.386 1952616.746, 957909.908 1...</td>\n    </tr>\n    <tr>\n      <td>2</td>\n      <td>11170</td>\n      <td>Yongsan-gu</td>\n      <td>용산구</td>\n      <td>POLYGON ((953115.761 1950834.084, 953114.206 1...</td>\n    </tr>\n    <tr>\n      <td>3</td>\n      <td>11200</td>\n      <td>Seongdong-gu</td>\n      <td>성동구</td>\n      <td>POLYGON ((959681.109 1952649.605, 959842.412 1...</td>\n    </tr>\n    <tr>\n      <td>4</td>\n      <td>11215</td>\n      <td>Gwangjin-gu</td>\n      <td>광진구</td>\n      <td>POLYGON ((964825.082 1952633.250, 964875.590 1...</td>\n    </tr>\n  </tbody>\n</table>\n</div>"
     },
     "metadata": {},
     "output_type": "execute_result",
     "execution_count": 2
    }
   ],
   "source": [
    "plt.rcParams[\"font.family\"] = 'NanumGothic'\n",
    "df = gpd.read_file(\"SIG/TL_SCCO_SIG.shp\", encoding='euc-kr')\n",
    "df.head()"
   ]
  },
  {
   "cell_type": "code",
   "execution_count": 3,
   "metadata": {
    "pycharm": {
     "is_executing": false,
     "name": "#%%\n"
    }
   },
   "outputs": [
    {
     "data": {
      "text/plain": "  SIG_CD    SIG_ENG_NM SIG_KOR_NM  \\\n0  11110     Jongno-gu        종로구   \n1  11140       Jung-gu         중구   \n2  11170    Yongsan-gu        용산구   \n3  11200  Seongdong-gu        성동구   \n4  11215   Gwangjin-gu        광진구   \n\n                                            geometry   si  \n0  POLYGON ((956615.453 1953567.199, 956621.579 1...  종로구  \n1  POLYGON ((957890.386 1952616.746, 957909.908 1...   중구  \n2  POLYGON ((953115.761 1950834.084, 953114.206 1...  용산구  \n3  POLYGON ((959681.109 1952649.605, 959842.412 1...  성동구  \n4  POLYGON ((964825.082 1952633.250, 964875.590 1...  광진구  ",
      "text/html": "<div>\n<style scoped>\n    .dataframe tbody tr th:only-of-type {\n        vertical-align: middle;\n    }\n\n    .dataframe tbody tr th {\n        vertical-align: top;\n    }\n\n    .dataframe thead th {\n        text-align: right;\n    }\n</style>\n<table border=\"1\" class=\"dataframe\">\n  <thead>\n    <tr style=\"text-align: right;\">\n      <th></th>\n      <th>SIG_CD</th>\n      <th>SIG_ENG_NM</th>\n      <th>SIG_KOR_NM</th>\n      <th>geometry</th>\n      <th>si</th>\n    </tr>\n  </thead>\n  <tbody>\n    <tr>\n      <td>0</td>\n      <td>11110</td>\n      <td>Jongno-gu</td>\n      <td>종로구</td>\n      <td>POLYGON ((956615.453 1953567.199, 956621.579 1...</td>\n      <td>종로구</td>\n    </tr>\n    <tr>\n      <td>1</td>\n      <td>11140</td>\n      <td>Jung-gu</td>\n      <td>중구</td>\n      <td>POLYGON ((957890.386 1952616.746, 957909.908 1...</td>\n      <td>중구</td>\n    </tr>\n    <tr>\n      <td>2</td>\n      <td>11170</td>\n      <td>Yongsan-gu</td>\n      <td>용산구</td>\n      <td>POLYGON ((953115.761 1950834.084, 953114.206 1...</td>\n      <td>용산구</td>\n    </tr>\n    <tr>\n      <td>3</td>\n      <td>11200</td>\n      <td>Seongdong-gu</td>\n      <td>성동구</td>\n      <td>POLYGON ((959681.109 1952649.605, 959842.412 1...</td>\n      <td>성동구</td>\n    </tr>\n    <tr>\n      <td>4</td>\n      <td>11215</td>\n      <td>Gwangjin-gu</td>\n      <td>광진구</td>\n      <td>POLYGON ((964825.082 1952633.250, 964875.590 1...</td>\n      <td>광진구</td>\n    </tr>\n  </tbody>\n</table>\n</div>"
     },
     "metadata": {},
     "output_type": "execute_result",
     "execution_count": 3
    }
   ],
   "source": [
    "df['si'] = df['SIG_KOR_NM'].str[0:3]\n",
    "df.head()"
   ]
  },
  {
   "cell_type": "code",
   "execution_count": 4,
   "metadata": {
    "pycharm": {
     "is_executing": false,
     "name": "#%%\n"
    }
   },
   "outputs": [],
   "source": [
    "서부 = ['28110','28140','28177','28185','28200','28237','28245','28260','28710', '41190', '41570']\n",
    "중부 = ['광명', '과천', '안양', '시흥', '군포', '의왕', '안산', '수원', '화성', '오산']\n",
    "남부 = ['평택', '안성']\n",
    "동부 = ['성남', '하남', '광주', '용인', '이천', '여주', '양평']\n",
    "북부 = ['연천', '파주', '동두천', '포천', '양주', '의정부', '고양', '구리', '남양주', '가평']"
   ]
  },
  {
   "cell_type": "code",
   "execution_count": 5,
   "metadata": {
    "pycharm": {
     "is_executing": false,
     "name": "#%%\n"
    }
   },
   "outputs": [
    {
     "name": "stderr",
     "text": [
      "C:\\Users\\mws10\\Anaconda3\\lib\\site-packages\\ipykernel_launcher.py:4: SettingWithCopyWarning: \n",
      "A value is trying to be set on a copy of a slice from a DataFrame.\n",
      "Try using .loc[row_indexer,col_indexer] = value instead\n",
      "\n",
      "See the caveats in the documentation: http://pandas.pydata.org/pandas-docs/stable/user_guide/indexing.html#returning-a-view-versus-a-copy\n",
      "  after removing the cwd from sys.path.\n"
     ],
     "output_type": "stream"
    }
   ],
   "source": [
    "gg = pd.DataFrame()\n",
    "for i in 동부:\n",
    "    temp=df[df['SIG_KOR_NM'].str.contains(i)]\n",
    "    temp['state'] = '동부'\n",
    "    gg = gg.append(temp)"
   ]
  },
  {
   "cell_type": "code",
   "execution_count": 6,
   "metadata": {
    "pycharm": {
     "is_executing": false,
     "name": "#%%\n"
    }
   },
   "outputs": [
    {
     "name": "stderr",
     "text": [
      "C:\\Users\\mws10\\Anaconda3\\lib\\site-packages\\ipykernel_launcher.py:3: SettingWithCopyWarning: \n",
      "A value is trying to be set on a copy of a slice from a DataFrame.\n",
      "Try using .loc[row_indexer,col_indexer] = value instead\n",
      "\n",
      "See the caveats in the documentation: http://pandas.pydata.org/pandas-docs/stable/user_guide/indexing.html#returning-a-view-versus-a-copy\n",
      "  This is separate from the ipykernel package so we can avoid doing imports until\n"
     ],
     "output_type": "stream"
    }
   ],
   "source": [
    "for i in 서부:\n",
    "    temp=df[df['SIG_CD'].str.contains(i)]\n",
    "    temp['state'] = '서부'\n",
    "    gg = gg.append(temp)"
   ]
  },
  {
   "cell_type": "code",
   "execution_count": 7,
   "metadata": {
    "pycharm": {
     "is_executing": false,
     "name": "#%%\n"
    }
   },
   "outputs": [
    {
     "name": "stderr",
     "text": [
      "C:\\Users\\mws10\\Anaconda3\\lib\\site-packages\\ipykernel_launcher.py:3: SettingWithCopyWarning: \n",
      "A value is trying to be set on a copy of a slice from a DataFrame.\n",
      "Try using .loc[row_indexer,col_indexer] = value instead\n",
      "\n",
      "See the caveats in the documentation: http://pandas.pydata.org/pandas-docs/stable/user_guide/indexing.html#returning-a-view-versus-a-copy\n",
      "  This is separate from the ipykernel package so we can avoid doing imports until\n"
     ],
     "output_type": "stream"
    }
   ],
   "source": [
    "for i in 남부:\n",
    "    temp=df[df['SIG_KOR_NM'].str.contains(i)]\n",
    "    temp['state'] = '남부'\n",
    "    gg = gg.append(temp)  "
   ]
  },
  {
   "cell_type": "code",
   "execution_count": 8,
   "metadata": {
    "pycharm": {
     "is_executing": false,
     "name": "#%%\n"
    }
   },
   "outputs": [
    {
     "name": "stderr",
     "text": [
      "C:\\Users\\mws10\\Anaconda3\\lib\\site-packages\\ipykernel_launcher.py:3: SettingWithCopyWarning: \n",
      "A value is trying to be set on a copy of a slice from a DataFrame.\n",
      "Try using .loc[row_indexer,col_indexer] = value instead\n",
      "\n",
      "See the caveats in the documentation: http://pandas.pydata.org/pandas-docs/stable/user_guide/indexing.html#returning-a-view-versus-a-copy\n",
      "  This is separate from the ipykernel package so we can avoid doing imports until\n"
     ],
     "output_type": "stream"
    }
   ],
   "source": [
    "for i in 북부:\n",
    "    temp=df[df['SIG_KOR_NM'].str.contains(i)]\n",
    "    temp['state'] = '북부'\n",
    "    gg = gg.append(temp)"
   ]
  },
  {
   "cell_type": "code",
   "execution_count": 9,
   "metadata": {
    "pycharm": {
     "is_executing": false,
     "name": "#%%\n"
    }
   },
   "outputs": [
    {
     "name": "stderr",
     "text": [
      "C:\\Users\\mws10\\Anaconda3\\lib\\site-packages\\ipykernel_launcher.py:3: SettingWithCopyWarning: \n",
      "A value is trying to be set on a copy of a slice from a DataFrame.\n",
      "Try using .loc[row_indexer,col_indexer] = value instead\n",
      "\n",
      "See the caveats in the documentation: http://pandas.pydata.org/pandas-docs/stable/user_guide/indexing.html#returning-a-view-versus-a-copy\n",
      "  This is separate from the ipykernel package so we can avoid doing imports until\n"
     ],
     "output_type": "stream"
    }
   ],
   "source": [
    "for i in 중부:\n",
    "    temp=df[df['SIG_KOR_NM'].str.contains(i)]\n",
    "    temp['state'] = '중부'\n",
    "    gg = gg.append(temp)    \n",
    "    "
   ]
  },
  {
   "cell_type": "code",
   "execution_count": 10,
   "metadata": {
    "pycharm": {
     "is_executing": false,
     "name": "#%%\n"
    }
   },
   "outputs": [],
   "source": [
    "gg[\"rep\"] = gg[\"geometry\"].representative_point()\n",
    "gg_points = gg.copy()\n",
    "gg_points.set_geometry(\"rep\", inplace = True)"
   ]
  },
  {
   "cell_type": "code",
   "execution_count": 11,
   "metadata": {
    "pycharm": {
     "is_executing": false,
     "name": "#%%\n"
    }
   },
   "outputs": [
    {
     "data": {
      "text/plain": "<Figure size 432x288 with 1 Axes>",
      "image/png": "[encoded data removed]"
     },
     "metadata": {
      "needs_background": "light"
     },
     "output_type": "display_data"
    }
   ],
   "source": [
    "ax = gg.plot(edgecolor=\"w\",column=\"state\", linewidth =0.5)\n",
    "texts = []\n",
    "\n",
    "\"\"\"\n",
    "for x, y, label in zip(gg_points.geometry.x, gg_points.geometry.y, gg_points[\"SIG_KOR_NM\"]):\n",
    "    a = plt.text(x, y, label, fontsize = 3)\n",
    "    texts.append(a) #, bbox=dict(facecolor=\"w\", alpha=0.2, linewidth = 0)))\n",
    "aT.adjust_text(texts, force_points=0, force_text=1, expand_points=(0,0), expand_text=(1,1))\n",
    "\"\"\"\n",
    "ax.set_axis_off()\n",
    "plt.savefig(\"경기지부.png\", dpi=600)\n",
    "\n",
    "\n"
   ]
  }
 ],
 "metadata": {
  "kernelspec": {
   "display_name": "Python 3",
   "language": "python",
   "name": "python3"
  },
  "language_info": {
   "codemirror_mode": {
    "name": "ipython",
    "version": 3
   },
   "file_extension": ".py",
   "mimetype": "text/x-python",
   "name": "python",
   "nbconvert_exporter": "python",
   "pygments_lexer": "ipython3",
   "version": "3.7.4"
  },
  "pycharm": {
   "stem_cell": {
    "cell_type": "raw",
    "source": [],
    "metadata": {
     "collapsed": false
    }
   }
  }
 },
 "nbformat": 4,
 "nbformat_minor": 1
}